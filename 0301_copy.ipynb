{
 "cells": [
  {
   "cell_type": "markdown",
   "metadata": {},
   "source": [
    "## 令data_new = data, 你真的备份成功了吗？ \n",
    "\n",
    "#### 要理解这个问题，就要明白直接赋值、浅拷贝与深拷贝之间的爱恨情深...\n",
    "\n",
    "1. **直接赋值**\n",
    "\n",
    "   直接赋值就是对象的引用，别名。\n",
    "\n",
    "   a = [...], b = a, 修改b就等于修改[...]，也就是修改a \n",
    "   \n",
    "\n",
    "2. **浅拷贝**\n",
    "   \n",
    "   复制了一层，深层没复制 \n",
    "   \n",
    "   改变第一层，无影响，但是改变第二层有影响 \n",
    "   \n",
    "\n",
    "3. **深拷贝** \n",
    " \n",
    "   复制两层 \n",
    "    \n",
    "   改变两层，复制项均无影响 "
   ]
  },
  {
   "cell_type": "markdown",
   "metadata": {},
   "source": [
    "+ 新建一个两层的列表a，分别赋值b，浅拷贝c，深拷贝d."
   ]
  },
  {
   "cell_type": "code",
   "execution_count": 15,
   "metadata": {},
   "outputs": [],
   "source": [
    "import copy\n",
    "a = [1,2,3,[0]] \n",
    "b = a\n",
    "c = copy.copy(a)\n",
    "d = copy.deepcopy(a)"
   ]
  },
  {
   "cell_type": "code",
   "execution_count": 16,
   "metadata": {},
   "outputs": [
    {
     "data": {
      "text/plain": [
       "[1, 2, 3, [0], 4]"
      ]
     },
     "execution_count": 16,
     "metadata": {},
     "output_type": "execute_result"
    }
   ],
   "source": [
    "a.append(4);a"
   ]
  },
  {
   "cell_type": "code",
   "execution_count": 12,
   "metadata": {},
   "outputs": [
    {
     "name": "stdout",
     "output_type": "stream",
     "text": [
      "b: [1, 2, 3, [0], 4] \n",
      "\n",
      "c: [1, 2, 3, [0]] \n",
      "\n",
      "d: [1, 2, 3, [0]]\n"
     ]
    }
   ],
   "source": [
    "print('b:',b,'\\n')\n",
    "print('c:',c,'\\n')\n",
    "print('d:',d)"
   ]
  },
  {
   "cell_type": "markdown",
   "metadata": {},
   "source": [
    "+ 改变第一层时，赋值的b随之变化；浅拷贝与深拷贝均不改变，保持原列表。"
   ]
  },
  {
   "cell_type": "code",
   "execution_count": 17,
   "metadata": {},
   "outputs": [
    {
     "data": {
      "text/plain": [
       "[1, 2, 3, [0, 5], 4]"
      ]
     },
     "execution_count": 17,
     "metadata": {},
     "output_type": "execute_result"
    }
   ],
   "source": [
    "a[3].append(5);a"
   ]
  },
  {
   "cell_type": "code",
   "execution_count": 18,
   "metadata": {},
   "outputs": [
    {
     "name": "stdout",
     "output_type": "stream",
     "text": [
      "b: [1, 2, 3, [0, 5], 4] \n",
      "\n",
      "c: [1, 2, 3, [0, 5]] \n",
      "\n",
      "d: [1, 2, 3, [0]]\n"
     ]
    }
   ],
   "source": [
    "print('b:',b,'\\n')\n",
    "print('c:',c,'\\n')\n",
    "print('d:',d)"
   ]
  },
  {
   "cell_type": "markdown",
   "metadata": {},
   "source": [
    "+ 改变第二层时，赋值b与浅拷贝均变化，深拷贝无变化。"
   ]
  }
 ],
 "metadata": {
  "kernelspec": {
   "display_name": "Python 3",
   "language": "python",
   "name": "python3"
  },
  "language_info": {
   "codemirror_mode": {
    "name": "ipython",
    "version": 3
   },
   "file_extension": ".py",
   "mimetype": "text/x-python",
   "name": "python",
   "nbconvert_exporter": "python",
   "pygments_lexer": "ipython3",
   "version": "3.8.5"
  }
 },
 "nbformat": 4,
 "nbformat_minor": 4
}
